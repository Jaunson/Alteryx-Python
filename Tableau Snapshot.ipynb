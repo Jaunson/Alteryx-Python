{
 "cells": [
  {
   "cell_type": "code",
   "execution_count": null,
   "metadata": {},
   "outputs": [],
   "source": [
    "from ayx import Alteryx\n",
    "import subprocess\n",
    "import pandas as pd"
   ]
  },
  {
   "cell_type": "code",
   "execution_count": null,
   "metadata": {},
   "outputs": [],
   "source": [
    "try:\n",
    "    df = Alteryx.read('#1')\n",
    "except:\n",
    "    df = pd.DataFrame(data = {'WBS1': ['000.9724.000'], 'Email':[None],\n",
    "                              'Username':[27467]})"
   ]
  },
  {
   "cell_type": "code",
   "execution_count": null,
   "metadata": {},
   "outputs": [],
   "source": [
    "# export pictures\n",
    "for i in df.index:\n",
    "    user = str(df.loc[i,'Username'])\n",
    "    project = str(df.loc[i, 'WBS1'])\n",
    "    subprocess.run('tabcmd export -s <server url> -t \"<site name>\" -u <user> -p <password> \"DesignResilienceTargetAlert/EUILPDAlert?:refresh=yes&DMEmployeeIDFriendly='+user+'&ProjectNumber='+project+r'\" --png -f \"<storage DIR>\\\\'+user+'_'+project+'.png')"
   ]
  },
  {
   "cell_type": "code",
   "execution_count": null,
   "metadata": {},
   "outputs": [],
   "source": [
    "Alteryx.write(df,1)"
   ]
  }
 ],
 "metadata": {
  "kernelspec": {
   "display_name": "Python 3",
   "language": "python",
   "name": "python3"
  },
  "language_info": {
   "codemirror_mode": {
    "name": "ipython",
    "version": 3
   },
   "file_extension": ".py",
   "mimetype": "text/x-python",
   "name": "python",
   "nbconvert_exporter": "python",
   "pygments_lexer": "ipython3",
   "version": "3.7.5"
  }
 },
 "nbformat": 4,
 "nbformat_minor": 4
}
